{
 "cells": [
  {
   "attachments": {},
   "cell_type": "markdown",
   "metadata": {},
   "source": [
    "# LESSON 1 : FUNCTION AND VARIABLE\n"
   ]
  },
  {
   "attachments": {},
   "cell_type": "markdown",
   "metadata": {},
   "source": [
    "## 1. Hello World\n"
   ]
  },
  {
   "cell_type": "code",
   "execution_count": 8,
   "metadata": {},
   "outputs": [
    {
     "name": "stdout",
     "output_type": "stream",
     "text": [
      "Hello world\n"
     ]
    }
   ],
   "source": [
    "# Hello World\n",
    "print(\"Hello world\") # ini adalah perintah untuk print string yg berisi \"hello world\"\n",
    "# String bisa ditulis dengan menggunakan tanda petik dua (\") atau petik satu (')\n"
   ]
  },
  {
   "attachments": {},
   "cell_type": "markdown",
   "metadata": {},
   "source": [
    "## 2. Variable & Input"
   ]
  },
  {
   "cell_type": "code",
   "execution_count": 9,
   "metadata": {},
   "outputs": [
    {
     "name": "stdout",
     "output_type": "stream",
     "text": [
      "Hello, felix hardyan\n",
      "Hello, felix hardyan\n",
      "Hello, felix hardyan\n"
     ]
    }
   ],
   "source": [
    "# Variable adalah sebuah wadah/container untuk menyimpan sebuah value\n",
    "\n",
    "# Mengambil Input dari User\n",
    "name = input(\"What's Your Name? : \") # ini adalah perintah input untuk mengambil input dari user\n",
    "# name adalah sebuah variable, variable name digunakan untuk menyimpan input string nama\n",
    "\n",
    "# Cara 1 Print Out Nama User\n",
    "print(\"Hello, \" + name) # perintah ini akan melakukan print Strint \"Hello, \" dan variable name\n",
    "# fungsi plus(+) adalah untuk memasukkan variable name ke dalam string \"Hello, \" \n",
    "# Note : bisa juga pake koma(,) klo mau masukin byk variable, contoh : print(\"Hello, \", name)\n",
    "\n",
    "# Cara 1 Print Out Nama User\n",
    "print(\"Hello, \", end=\"\") # fungsi end=\"\" akan membuat print ke-1 tidak pindah ke next line\n",
    "print(name) # <-- yaitu print ke-2 yg ini, jadi tidak ada space baris antara kedua print tsb\n",
    "\n",
    "# Cara 3 Print Out Nama User\n",
    "print(f\"Hello, {name}\") # {name} : disebut dengan format string untuk melakukan format pada suatu value dan memasukkannya ke dalam string placeholder\n",
    "# huruf \"f\" yang ada sebelum tanda petik dua pertama fungsinya untuk memberi tahu bahwa {name} adalah sebuah format string\n",
    "# tanda kurung kurawal \"{}\" adalah sebuah placeholder"
   ]
  },
  {
   "attachments": {},
   "cell_type": "markdown",
   "metadata": {},
   "source": [
    "## 2.1 String (str)"
   ]
  },
  {
   "cell_type": "code",
   "execution_count": 10,
   "metadata": {},
   "outputs": [
    {
     "name": "stdout",
     "output_type": "stream",
     "text": [
      "\"Hello\"\n",
      "\"Hello\"\n",
      "Hello, Felix Hardyan\n"
     ]
    }
   ],
   "source": [
    "# String adalah rangkaian text atau huruf\n",
    "\n",
    "# Cara Untuk Print Tanda kutip(\"\") di dalam string\n",
    "print(\"\\\"Hello\\\"\") # ini adalah cara yang benar \n",
    "print('\"Hello\"') # bisa juga pakai tanda kutip yg beda seperti ini\n",
    "# print(\"\"Hello\"\") : cara ini salah dan akan error\n",
    "\n",
    "# Macam-macam Function String\n",
    "name = input(\"What's Your Name? : \")\n",
    "\n",
    "# Function strip \n",
    "name = name.strip() # menghilangkan spasi di awal dan akhir string tapi tidak dengan yang di tengah\n",
    "\n",
    "# Function title dan capitalize\n",
    "name = name.title() # akan mengkapitalisasi huruf pertama setiap kata yg diinput user (seperti judul buku dan nama)\n",
    "# name = name.capitalize() : hanya kapitalisasi huruf pertama\n",
    "\n",
    "# Function Split \n",
    "first, last = name.split(\" \") # memisahkan kata pertama dan terakhir pada string dengan spasi (gak harus spasi, bisa diganti argumentnya)\n",
    "\n",
    "# Penggabungan Function strip dan title\n",
    "# name = name.strip().title() \n",
    "# atau bisa juga digabung langsung dengan function input seperti ini :\n",
    "# name = input(\"What's Your Name? : \").strip().title()\n",
    "\n",
    "# Function untuk Print Out ame\n",
    "print(f\"Hello, {name}\")\n",
    "# atau bisa juga print(f\"Hello, {first}\") untuk print hanya kata pertama dari string yg diinput\n",
    "#sekarang coba run program dan ketika input masukin spasi gak guna dan huruf kecil\n"
   ]
  },
  {
   "attachments": {},
   "cell_type": "markdown",
   "metadata": {},
   "source": [
    "## 2.2 Integer (int)"
   ]
  },
  {
   "cell_type": "code",
   "execution_count": null,
   "metadata": {},
   "outputs": [],
   "source": [
    "# Interger adalah angka bulat, tanpa desimal, bukan bilangan positif dan negatif, dan bernilai unlimited\n",
    "\n",
    "# kita akan membuat program kalkulator sederhana \n",
    "# di file notebook ini kita hanya membuat program sederhana saja\n",
    "# untuk versi lebih lengkapnya bisa dilihat calculator.py yang ada di folder sama dengan file jupyter notebook ini\n",
    "\n",
    "x = 1 # variabel x bernilai 1\n",
    "y = 2 # variabel y bernilai 2\n",
    "\n",
    "# variabel z akan menambahkan nilai x dan y\n",
    "z = int (x) + int(y) \n",
    "\n",
    "# print out z akan menampilkan hasil pertambahan \n",
    "print(z)\n"
   ]
  },
  {
   "attachments": {},
   "cell_type": "markdown",
   "metadata": {},
   "source": [
    "## 2.3 Float"
   ]
  },
  {
   "cell_type": "code",
   "execution_count": 18,
   "metadata": {},
   "outputs": [
    {
     "name": "stdout",
     "output_type": "stream",
     "text": [
      "2\n"
     ]
    }
   ],
   "source": [
    "# float atau floating point adalah angka desimal atau angka yang memiliki koma \n",
    "\n",
    "# program dan penjelasan lengkapnya bisa dilihat calculator.py yang ada di folder sama dengan file jupyter notebook ini\n",
    "\n",
    "a = 5.7 # variabel a adalah float yg bernilai 5.7\n",
    "b = 3.9 # variabel b adalah float yg bernilai 3.9\n",
    "\n",
    "# variabel c akan menambahkan nilai a dan b\n",
    "c = float(a) - float(b)\n",
    "\n",
    "# print out c akan menampilkan hasil pengurangan float \n",
    "print(c)"
   ]
  },
  {
   "attachments": {},
   "cell_type": "markdown",
   "metadata": {},
   "source": [
    "## 3. Function (def)"
   ]
  },
  {
   "cell_type": "code",
   "execution_count": null,
   "metadata": {},
   "outputs": [],
   "source": [
    "# Function adalah sebuah code yang hanya bisa berjalan ketika kita panggil atau gunakan\n",
    "# Sebuah function biasanya berbentuk : NAMA_FUNC()\n",
    "\n",
    "# def artinya define, ini digunakan ketika kita ingin membuat sebuah function kita sendiri\n",
    "def hello(): # function hello() akan melakukan print out string \"hello\"\n",
    "    print(\"hello,\")\n",
    "\n",
    "name = (\"felix\")\n",
    "hello() # memanggil function hello\n",
    "print(name)\n",
    "\n",
    "# bentuk lain dari program diatas adalah \n",
    "def halo(to): # \"to\" adalah parameter\n",
    "    print(\"halo, \", to) # memanggil parameter \"to\" dan print out halo\n",
    "\n",
    "name = (\"joko\")\n",
    "halo(name) # \"name\" adalah argument yang akan melakukan print out string \"joko\"\n",
    "# jadi parameter \"to\" berisi argument \"name\", argument name berisi string \"joko\"\n",
    "\n",
    "# kita juga bisa memberikan paramater sebuah default value dengan cara :\n",
    "# def halo(to=\"felix\")\n",
    "# jadi ketika kita hanya memanggil function halo() tanpa memberikan argument \"name\" makan akan keluar output \"halo, felix\""
   ]
  },
  {
   "cell_type": "code",
   "execution_count": 20,
   "metadata": {},
   "outputs": [
    {
     "name": "stdout",
     "output_type": "stream",
     "text": [
      "hello, Felix\n"
     ]
    }
   ],
   "source": [
    "# Bentuk lain dari function adalah :\n",
    "\n",
    "#2\n",
    "def main(): # function main \n",
    "    name = input(\"felix\")\n",
    "    hello(name)\n",
    "\n",
    "# 3\n",
    "def hello(to=\"World\"):\n",
    "    print(\"hello,\", to)\n",
    "\n",
    "# 1 \n",
    "main() # memanggil function main\n",
    "\n",
    "# urutan berjalannya program : \n",
    "# 1. function yg pertama kali dipanggil adalah function main()\n",
    "# 2. ketika function main() berhasil dipanggil, selanjutnya dia akan menjalankan function main()\n",
    "# 3. setelah main() berhasil berjalan maka selanjutnya function hello() juga akan berjalan \n",
    "# 4. output hello, felix akan keluar \n",
    "# 5. jika function hello(name) diganti menjadi function hello() tanpa parameter, maka default values dari hello() yaitu \"world\" akan di print#\n",
    "\n",
    "\n"
   ]
  },
  {
   "attachments": {},
   "cell_type": "markdown",
   "metadata": {},
   "source": [
    "## 3.1 Return Statement"
   ]
  },
  {
   "cell_type": "code",
   "execution_count": 1,
   "metadata": {},
   "outputs": [
    {
     "name": "stdout",
     "output_type": "stream",
     "text": [
      "x squared is : None\n"
     ]
    }
   ],
   "source": [
    "# return berfungsi untuk mengakhiri pemanggilan function dan mengembalikan suatu value/nilai pada function\n",
    "# berbeda sama print yang cuma mencetak output dan tidak terikat sama suatu function\n",
    "# perintah return mengembalikan value yang tersimpan kepada kode yg akan memanggil function tersebut\n",
    "# perintah retun akan menghentikan sebuah function mirip seperti break dalam perulangan\n",
    "\n",
    "# contoh program calculator kuadrat menggunakan return\n",
    "def calc(): # function calc\n",
    "    x = int(input(\"What's x?\"))\n",
    "    print(\"x squared is :\", square(x)) # argument untuk memanggil function square\n",
    "\n",
    "def square(n):\n",
    "    return n * n # return value n ke function square sehingga bisa dipanggil \n",
    "    # jika return dihilangkan maka outputnya akan \"none\" karena nilai n tidak di return ke user\n",
    "\n",
    "calc() # memanggil function calc\n"
   ]
  },
  {
   "attachments": {},
   "cell_type": "markdown",
   "metadata": {},
   "source": [
    "## 4. Argument & Parameter"
   ]
  },
  {
   "cell_type": "code",
   "execution_count": 6,
   "metadata": {},
   "outputs": [
    {
     "name": "stdout",
     "output_type": "stream",
     "text": [
      "Jumlah :  70\n"
     ]
    }
   ],
   "source": [
    "# Perbedaan Argument dan Parameter\n",
    "def pertambahan(a, b): # pertambahan(a, b) disini adalah parameter\n",
    "    return a + b\n",
    "\n",
    "print(\"Jumlah : \", pertambahan(30, 40)) # pertambahan(30, 40) disini adalah argument\n",
    "\n",
    "# argument dan parameter bedanya adalah :\n",
    "# parameter adalah sebuah variable yang di list di dalam tanda kurung sebuah function\n",
    "# argument adalah nilai yang dikirim ke function saat program dijalankan atau bisa dibilang \"isi dari parameter\"(?)\n"
   ]
  },
  {
   "attachments": {},
   "cell_type": "markdown",
   "metadata": {},
   "source": [
    "## Additional Note\n",
    "\n",
    "#### CARA RUN PROGRAM Python :\n",
    "#### 1. dengan tombol run python file di kanan atas \n",
    "#### 2. atau ketik python NAMA_FILE.py di terminal\n",
    "\n",
    "#### INTERACTIVE MODE :\n",
    "#### 1. buka terminal dan ketik python \n",
    "#### 2. interactive mode akan aktif \n",
    "#### 3. kita bisa coding dan perintah yg kita ketik akan lgsg di eksekusi"
   ]
  },
  {
   "attachments": {},
   "cell_type": "markdown",
   "metadata": {},
   "source": [
    "# TUGAS AKHIR :\n",
    "# Buat program yang mengimplementasikan semua hal yang sudah dipelajari di lesson ini!!!\n",
    "# Buat di folder yang sama dengan nama Exercise lesson 1\n"
   ]
  }
 ],
 "metadata": {
  "kernelspec": {
   "display_name": "Python 3",
   "language": "python",
   "name": "python3"
  },
  "language_info": {
   "codemirror_mode": {
    "name": "ipython",
    "version": 3
   },
   "file_extension": ".py",
   "mimetype": "text/x-python",
   "name": "python",
   "nbconvert_exporter": "python",
   "pygments_lexer": "ipython3",
   "version": "3.11.4"
  },
  "orig_nbformat": 4
 },
 "nbformat": 4,
 "nbformat_minor": 2
}
