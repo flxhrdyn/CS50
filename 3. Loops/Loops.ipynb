{
 "cells": [
  {
   "attachments": {},
   "cell_type": "markdown",
   "metadata": {},
   "source": [
    "# Lesson 3 : Loops"
   ]
  },
  {
   "attachments": {},
   "cell_type": "markdown",
   "metadata": {},
   "source": [
    "## 1. While"
   ]
  },
  {
   "cell_type": "code",
   "execution_count": 5,
   "metadata": {},
   "outputs": [
    {
     "name": "stdout",
     "output_type": "stream",
     "text": [
      "Meow\n",
      "Meow\n",
      "Meow\n"
     ]
    }
   ],
   "source": [
    "# while loop berfungsi untuk execute suatu statement secara berulang-ulang selama conditionnya true\n",
    "\n",
    "#contoh program \n",
    "# kita ingin kucingnya meow 3 kali\n",
    "x = 3\n",
    "\n",
    "# while loop\n",
    "while x != 0: # selama x tidak sama dengan 0 maka perintah selanjutnya akan berjalan\n",
    "    print(\"Meow\") # print meow\n",
    "    x = x - 1 # mengurangi x dengan 1 setiap kali looping sehingga lama-lama x = 0, sehingga program berhenti\n",
    "    # jadi pada loop yg ke empat nilai x = 0 dan program berhenti\n",
    "\n",
    "# atau bisa juga seperti ini\n",
    "# x = 0\n",
    "# while x < 3: # selama x lebih kecil dari 3 maka perintah selanjutnya akan berjalan\n",
    "#     print(\"Meow\") # print meow\n",
    "#     x += 1 # menambah x dengan 1 setiap kali looping (x += 1 sama dengan x = x + 1)\n",
    "#     # jadi pada loop yg ke empat nilai x = 3 dan program berhenti\n"
   ]
  },
  {
   "attachments": {},
   "cell_type": "markdown",
   "metadata": {},
   "source": [
    "## 1.1 Break\n"
   ]
  },
  {
   "cell_type": "code",
   "execution_count": 6,
   "metadata": {},
   "outputs": [
    {
     "name": "stdout",
     "output_type": "stream",
     "text": [
      "1\n",
      "2\n",
      "3\n"
     ]
    }
   ],
   "source": [
    "# break digunakan untuk menghentikan loop walaupun conditionnya true\n",
    "\n",
    "# contoh program\n",
    "i = 1\n",
    "while i < 6: # while loop akan berjalan jika i kurang dari 6\n",
    "  print(i) # print nilai i\n",
    "  if i == 3: # jika i sama dengan 3 maka loop akan di break\n",
    "    break\n",
    "  i += 1 # menambahkan nilai i dengan satu setiap kali loop berjalan"
   ]
  },
  {
   "attachments": {},
   "cell_type": "markdown",
   "metadata": {},
   "source": [
    "## 1.2 Continue"
   ]
  },
  {
   "cell_type": "code",
   "execution_count": 8,
   "metadata": {},
   "outputs": [
    {
     "name": "stdout",
     "output_type": "stream",
     "text": [
      "1\n",
      "2\n",
      "4\n",
      "5\n",
      "6\n"
     ]
    }
   ],
   "source": [
    "# continue digunakan untuk menghentikan loop dan pindah ke perintah selanjutnya\n",
    "\n",
    "# contoh program \n",
    "i = 0 \n",
    "while i < 6: # while loop akan berjalan jika i kurang dari 6\n",
    "    i += 1 # menambahkan nilai i dengan satu setiap kali loop berjalan\n",
    "    if i == 3: # jika i sama dengan 3 maka loop akan continue ke perintah selanjutnya\n",
    "        continue\n",
    "    print(i) # print nilai i"
   ]
  },
  {
   "attachments": {},
   "cell_type": "markdown",
   "metadata": {},
   "source": [
    "## 1.3 Else"
   ]
  },
  {
   "cell_type": "code",
   "execution_count": 9,
   "metadata": {},
   "outputs": [
    {
     "name": "stdout",
     "output_type": "stream",
     "text": [
      "1\n",
      "2\n",
      "3\n",
      "4\n",
      "5\n",
      "I is no longer less than 6\n"
     ]
    }
   ],
   "source": [
    "# else digunakan untuk menjalankan code jika kondisi loopnya sudah bukan true lagi\n",
    "\n",
    "# contoh program\n",
    "i = 1\n",
    "while i < 6: # while loop akan berjalan jika i kurang dari 6\n",
    "    print(i) # print i\n",
    "    i += 1 # menambahkan nilai i dengan satu setiap kali loop berjalan\n",
    "else: # jika i sudah tidak lebih kecil dari 6 (lebih besar) maka perintah selanjutnya akan berjalan\n",
    "    print(\"I is no longer less than 6\") # print string jika else terpenuhi"
   ]
  },
  {
   "attachments": {},
   "cell_type": "markdown",
   "metadata": {},
   "source": [
    "## 2. For"
   ]
  },
  {
   "cell_type": "code",
   "execution_count": 11,
   "metadata": {},
   "outputs": [
    {
     "name": "stdout",
     "output_type": "stream",
     "text": [
      "Meow\n",
      "Meow\n",
      "Meow\n"
     ]
    }
   ],
   "source": [
    "# for loop digunakan untuk mengulang fungsi suatu order atau sequence (list, tuple, dictionary, atau string)\n",
    "# else pada for loop digunakan untuk menjalankan code setelah loopnya selesai/terpenuhi\n",
    "\n",
    "\n",
    "# range akan mengembalikan angka yang berurut, dimulai dari 0 by default dan akan bertambah satu (default)\n",
    "for _ in range(3): # range akan berhenti ketika angka yg dimasukkan sudah tercapai, dalam hal ini angka 3\n",
    "    # variable _ (underscore) adalah variable yang tidak akan kita digunakan kedepannya buat nyimpen suatu value\n",
    "    # trus kenapa dibuat? cuma buat formalitas aja suapaya loopnya bisa jalan, karena loop butuh variable\n",
    "\n",
    "    print(\"Meow\")\n"
   ]
  },
  {
   "cell_type": "code",
   "execution_count": 1,
   "metadata": {},
   "outputs": [
    {
     "name": "stdout",
     "output_type": "stream",
     "text": [
      "meow\n",
      "meow\n",
      "meow\n"
     ]
    }
   ],
   "source": [
    "# bisa juga kita buat program meow tanpa for loop dengan cara\n",
    "print(\"meow\\n\" * 3, end=\"\") \n",
    "# str kita kali 3 agar di print 3 kali\n",
    "# lalu kita beri \\n agar pindah ke line selanjutnya, jika tidak pakai \\n maka outputnya akan \"meowmeowmeow\"\n",
    "# terakhir kita beri end=\"\" agar di output tidak ada extra spasi dibawah meow ke-3"
   ]
  },
  {
   "attachments": {},
   "cell_type": "markdown",
   "metadata": {},
   "source": [
    "## 2.1 Range"
   ]
  },
  {
   "cell_type": "code",
   "execution_count": 11,
   "metadata": {},
   "outputs": [
    {
     "name": "stdout",
     "output_type": "stream",
     "text": [
      "0\n",
      "2\n",
      "4\n",
      "6\n",
      "8\n"
     ]
    }
   ],
   "source": [
    "# range adalah function yang akan return suatu urutan angka\n",
    "# dimulai dari 0 (default), dan akan ditambah/increment dengan 1 (default), dan berhenti sebelum batas akhir yang di spesifikasikan\n",
    "\n",
    "# syntaxnya adalah range(start, stop, step)\n",
    "# start = angka mulai\n",
    "# stop = angka berhenti/akhir\n",
    "# step = increment (default 1)\n",
    "\n",
    "# contohnya \n",
    "# range(0, 5) outputnya akan 0, 1, 2, 3, 4\n",
    "# range(0, 5, 2) outputnya akan 0, 2, 4\n",
    "\n",
    "for _ in range(0, 10, 2): # dimulai dari 0 sampai 9 dengan increment 2\n",
    "    print(_)\n"
   ]
  },
  {
   "attachments": {},
   "cell_type": "markdown",
   "metadata": {},
   "source": [
    "## 2.2 Nested Loop"
   ]
  },
  {
   "cell_type": "code",
   "execution_count": 6,
   "metadata": {},
   "outputs": [
    {
     "name": "stdout",
     "output_type": "stream",
     "text": [
      "#\n",
      "#\n",
      "#\n"
     ]
    }
   ],
   "source": [
    "# program untuk print kolom\n",
    "def main():\n",
    "    x = int(input(\"Enter the Height\")) # input height, x akan masuk ke height yg ada di function print_column\n",
    "    print_column(x) # print_column sebanyak x  \n",
    "\n",
    "def print_column(height): # function print column\n",
    "    for i in range(height): # for loop dengan range height ()\n",
    "        print(\"#\") # print str \"#\"\n",
    "        # atau bisa juga dengan\n",
    "        # print(\"#\" * height, sep=\"\") fungsi sep(separator) disini adalah agar \"#\" di print secara vertical\n",
    "        # karena jika kita mengkalikan string dengan suatu var maka string akan di print secara horizontal\n",
    "\n",
    "main() # memanggil function main"
   ]
  },
  {
   "cell_type": "code",
   "execution_count": 10,
   "metadata": {},
   "outputs": [
    {
     "name": "stdout",
     "output_type": "stream",
     "text": [
      "???"
     ]
    }
   ],
   "source": [
    "# program untuk print baris\n",
    "def main():\n",
    "    x = int(input(\"Enter the Width\")) # input width, x akan masuk ke length yg ada di function print_row\n",
    "    print_row(x) # print_row sebanyak x \n",
    "\n",
    "def print_row(width): # function print row \n",
    "    for i in range(width): # for loop dengan range lwidth \n",
    "        print(\"?\", end=\"\") # print str \"?\", fungsi end=\"\" adalah agar str di print secara horizontal(tidak print di line yang berbeda)\n",
    "        # atau bisa juga dengan\n",
    "        # print(\"?\" * width) # karena jika str dikalikan dengan var maka akan otomatis di print secara horizontal\n",
    "\n",
    "main() # memanggil function main"
   ]
  },
  {
   "cell_type": "code",
   "execution_count": 49,
   "metadata": {},
   "outputs": [
    {
     "name": "stdout",
     "output_type": "stream",
     "text": [
      "###\n",
      "###\n",
      "###\n"
     ]
    }
   ],
   "source": [
    "# lalu bagaimana jika kita ingin membuat suatu kubus?\n",
    "\n",
    "# program menggambar kubus dengan nested loop\n",
    "def main(): # function main\n",
    "     x = int(input(\"Enter the square size\")) # x akan menerima input size dari kubus\n",
    "     square(x) # function square dengan size x\n",
    "\n",
    "def square(size): # function square\n",
    "     # for loop untuk setiap baris \"#\" dalam suatu kubus\n",
    "     for i in range(size): \n",
    "\n",
    "          # for loop untuk setiap \"#\" di suatu baris\n",
    "          for j in range(size):\n",
    "\n",
    "               # print \"#\" secara horizontal\n",
    "               print(\"#\", end=\"\")\n",
    "               \n",
    "          # pindah ke line selanjutnya\n",
    "          print()\n",
    "\n",
    "main()"
   ]
  },
  {
   "cell_type": "code",
   "execution_count": 50,
   "metadata": {},
   "outputs": [
    {
     "name": "stdout",
     "output_type": "stream",
     "text": [
      "###\n",
      "###\n",
      "###\n"
     ]
    }
   ],
   "source": [
    "# program diatas bisa disederhanakan menjadi\n",
    "def main(): # function main\n",
    "     x = int(input(\"Enter the square size\")) # x akan menerima input size dari kubus\n",
    "     square(x) # function square dengan size x\n",
    "\n",
    "def square(size): # function square\n",
    "     for i in range(size): \n",
    "        print(\"#\" * size) # print \"#\" dikalikan dengan value size\n",
    "\n",
    "main()"
   ]
  },
  {
   "attachments": {},
   "cell_type": "markdown",
   "metadata": {},
   "source": [
    "## 3. While loop and for loop implementation"
   ]
  },
  {
   "cell_type": "code",
   "execution_count": 5,
   "metadata": {},
   "outputs": [
    {
     "name": "stdout",
     "output_type": "stream",
     "text": [
      "meow\n",
      "meow\n",
      "meow\n"
     ]
    }
   ],
   "source": [
    "# while true digunakan biasanya agar kita bisa ngulang program berkali2 sampai user memasukkan input yg tepat / kita inginkan\n",
    "# jadi klo inputnya salah program bakal ulang dari awal lagi\n",
    "\n",
    "while True: # menggunakan while true agar loop akan berjalan terus2 menerus (kyk infinite loop tapi sengaja)\n",
    "    n = int(input(\"What's n?\"))\n",
    "    if n > 0: # jika n lebih besar dari 0 (tidak negatif) maka loop akan berhenti, jika negatif maka loop akan terus berjalan dan meminta input\n",
    "        break # walaupun breaknya indented tapi tetap bisa menghentikan while loop\n",
    "    \n",
    "for _ in range(n): # for loop agar meow dapat di print sesuai dengan value n\n",
    "    print(\"meow\")   \n",
    "\n",
    "    # atau bisa juga versi kompleksnya dan bertele2nya seperti ini:\n",
    "    # if n < 0: # jika nilai n negatif maka,\n",
    "    #     continue # berfungsi agar jika input bernilai negatif, pertanyaan whats n akan tetap ditanyakan \n",
    "    #     # continue to stay in this loop\n",
    "    # else:\n",
    "    #     break # jika n sudah tidak bernilai negatif maka loop akan berhenti\n",
    "    #     # break out of the loop "
   ]
  },
  {
   "cell_type": "code",
   "execution_count": 6,
   "metadata": {},
   "outputs": [
    {
     "name": "stdout",
     "output_type": "stream",
     "text": [
      "meow\n",
      "meow\n"
     ]
    }
   ],
   "source": [
    "# versi lainnya adalah seperti ini\n",
    "\n",
    "#2\n",
    "def main(): # function main \n",
    "    number = get_number() # variable number sama dengan function get_number\n",
    "    meow(number) # meow sesuai dengan numbernya\n",
    "\n",
    "# 3\n",
    "def get_number(): # function get number yang akan menerima input user\n",
    "    while True: # jika while ini blm terpenuhi maka akan berulang terus\n",
    "        n = int(input(\"What's n? \")) # menerima input dari user\n",
    "        if n > 0: # jika n lebih besar dari 0 (tidak negatif) maka loop akan berhenti, jika negatif maka loop akan terus berjalan dan meminta input\n",
    "            return n # jika if true/terpenuhi maka nilai n akan di return\n",
    "\n",
    "# 4      \n",
    "def meow(n): # function meow\n",
    "    for _ in range(n): # for loop agar meow dapat di print sesuai dengan value n\n",
    "        print(\"meow\") \n",
    "\n",
    "# 1\n",
    "main() # memanggil function main"
   ]
  },
  {
   "attachments": {},
   "cell_type": "markdown",
   "metadata": {},
   "source": [
    "## 4. List"
   ]
  },
  {
   "cell_type": "code",
   "execution_count": 5,
   "metadata": {},
   "outputs": [
    {
     "name": "stdout",
     "output_type": "stream",
     "text": [
      "Joko\n",
      "Arya\n",
      "Steven\n"
     ]
    }
   ],
   "source": [
    "# List digunakan untuk menyimpan byk item dalam satu variable\n",
    "# list ditulis dengan kurung siku []\n",
    "\n",
    "# Sifat list :\n",
    "# 1. Ordered : item di dalam list sifatnya berurutan, jadi kalau kita tambah item kedalam list maka item tersebut akan ditempatkan di akhir list\n",
    "# 2. Changeable : item dalam list dapat kita change, add, remove setelah list tersebut dibuat\n",
    "# 3. Indexed : list di indeks, kita bisa masukkan item dengan value yang sama dalam satu list misal : list = [1, 2, 3, 3, 4, 4]\n",
    "\n",
    "# PENTING : LIST SELALU DIMULAI DARI NOL!!!\n",
    "# untuk mengetahui jumlah item di dalam list maka kita bisa menggunakan function len()\n",
    "# sebuah list dapat berisi macam2 data type, seperti string, int, boolean, dll\n",
    "\n",
    "# contoh list 1\n",
    "students = [\"Joko\", \"Arya\", \"Steven\"] # Sebuah list bernama students yang berisi 3 string\n",
    "\n",
    "# print isi list dengan for loop (lebih efisien dan simple)\n",
    "for student in students: \n",
    "    print(student)\n",
    "\n",
    "# print isi list secara manual\n",
    "# print(students[0]) # print nama pertama dalam list yaitu joko (List dimulai dari nol)\n",
    "# print(students[1]) # print nama kedua dalam list yaitu Arya \n",
    "# print(students[2]) # print nama ketiga dalam list yaitu Steven "
   ]
  },
  {
   "cell_type": "code",
   "execution_count": 9,
   "metadata": {},
   "outputs": [
    {
     "name": "stdout",
     "output_type": "stream",
     "text": [
      "0 Joko\n",
      "1 Arya\n",
      "2 Steven\n"
     ]
    }
   ],
   "source": [
    "# contoh list 2\n",
    "students = [\"Joko\", \"Arya\", \"Steven\"] # Sebuah list bernama students yang berisi 3 string\n",
    "\n",
    "# print isi list dengan menggunakan angka urutannya (0, 1, 2)\n",
    "for i in range(len(students)): # len digunakan untuk menghitung panjang dari list karena range hanya dapat menerima angka \n",
    "    print(i, students[i]) # i adalah urutan angka (nomor indeks) pada list (untuk list students maka 0,1,2) \n",
    "\n",
    "# penjelasan code di atas\n",
    "# 1. jika kita ingin print list dengan angka urutannya kita gunakan len untuk menghitung panjang dari list\n",
    "# 2. hasil dari len adalah 0, 1, 2 \n",
    "# 3. students[i] akan print student sesuai dengan urutan/indeks listnya yaitu i (0, 1, 2)\n",
    "# 4. kita juga bisa print i untuk mengetahui urutan dari isi listnya"
   ]
  },
  {
   "attachments": {},
   "cell_type": "markdown",
   "metadata": {},
   "source": [
    "## 5. Dictionary (dict)"
   ]
  },
  {
   "cell_type": "code",
   "execution_count": 15,
   "metadata": {},
   "outputs": [
    {
     "name": "stdout",
     "output_type": "stream",
     "text": [
      "Joko class a\n",
      "Agus class b\n",
      "Steven class a\n",
      "Ucup class c\n"
     ]
    }
   ],
   "source": [
    "# dictionary digunakan untuk menyimpan data value dalam bentuk key:value\n",
    "# dictionary bersifat ordered(berurutan), changeable(dapat diganti), dan tidak dapat berisi duplicate\n",
    "# dictionary ditulis dengan kurung kurawal {}\n",
    "\n",
    "# contoh program\n",
    "students = {\"Joko\": \"class a\",\n",
    "            \"Agus\": \"class b\",\n",
    "            \"Steven\": \"class a\",\n",
    "            \"Ucup\": \"class c\"}\n",
    "# key = nama\n",
    "# value = kelas\n",
    "\n",
    "for student in students: # student adalah key, kelasnya adalah value\n",
    "    print(student, students[student]) # students[student] digunakan untuk memanggil value dari key student, dalam dict students \n",
    "\n",
    "# value dalam dict dapat dipanggil dengan lgsg menuliskan key dari value tsb. Berbeda dengan list yg harus menuliskan nomor indeks\n",
    "# print(students[\"Joko\"]) # print value dari key joko"
   ]
  },
  {
   "cell_type": "code",
   "execution_count": 16,
   "metadata": {},
   "outputs": [
    {
     "name": "stdout",
     "output_type": "stream",
     "text": [
      "Joko, class a, swimming\n",
      "Agus, class b, reading\n",
      "Steven, class a, painting\n",
      "Ucup, class c, None\n"
     ]
    }
   ],
   "source": [
    "# lalu bagaimana jika dictionary students diatas memiliki 3 variable yaitu nama. kelas, dan hobby?\n",
    "# caranya adalah dengan membuat dictionary di dalam sebuah list\n",
    "\n",
    "# contohnya \n",
    "students = [\n",
    "    {\"name\" : \"Joko\", \"class\": \"class a\", \"hobby\": \"swimming\"}, # key adalah name. class, hobby dan value adalah isinya\n",
    "    {\"name\" : \"Agus\", \"class\": \"class b\", \"hobby\": \"reading\"},\n",
    "    {\"name\" : \"Steven\", \"class\": \"class a\", \"hobby\": \"painting\"},\n",
    "    {\"name\" : \"Ucup\", \"class\": \"class c\", \"hobby\": None} # variable None yang digunakan jika suatu value tidak memiliki nilai\n",
    "]\n",
    "\n",
    "for student in students:\n",
    "    print(student[\"name\"], student[\"class\"], student[\"hobby\"], sep=\", \") # print out value dari name, class, hobby dalam dictionary\n",
    "    # sep = \", \" adalah separator string berfungsi untuk memisahkan setiap string dengan koma"
   ]
  }
 ],
 "metadata": {
  "kernelspec": {
   "display_name": "Python 3",
   "language": "python",
   "name": "python3"
  },
  "language_info": {
   "codemirror_mode": {
    "name": "ipython",
    "version": 3
   },
   "file_extension": ".py",
   "mimetype": "text/x-python",
   "name": "python",
   "nbconvert_exporter": "python",
   "pygments_lexer": "ipython3",
   "version": "3.11.4"
  },
  "orig_nbformat": 4
 },
 "nbformat": 4,
 "nbformat_minor": 2
}
