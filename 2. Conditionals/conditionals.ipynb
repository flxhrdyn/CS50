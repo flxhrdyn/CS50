{
 "cells": [
  {
   "attachments": {},
   "cell_type": "markdown",
   "metadata": {},
   "source": [
    "# LESSON 2 : CONDITIONALS"
   ]
  },
  {
   "attachments": {},
   "cell_type": "markdown",
   "metadata": {},
   "source": [
    "## 1. If, Elif, Else"
   ]
  },
  {
   "cell_type": "code",
   "execution_count": 1,
   "metadata": {},
   "outputs": [
    {
     "name": "stdout",
     "output_type": "stream",
     "text": [
      "10 is greater than 4\n"
     ]
    }
   ],
   "source": [
    "# statement if akan bekerja jika suatu condition adalah true\n",
    "\n",
    "x = int(input(\"what's x? \")) # input variable x \n",
    "y = int(input(\"what's y? \")) # input variable y\n",
    "\n",
    "if x < y: # statement if jika condition true maka perintah print dibawah akan berjalan\n",
    "    print(f\"{x} is less than {y}\") # print out hasil akhir dengan format string\n",
    "    # jika condition false maka akan lanjut ke if di bawah \n",
    "\n",
    "elif x > y: # statement else if jika condition sebelumnya false/not true maka statement elif akan berjalan \n",
    "    print(f\"{x} is greater than {y}\")\n",
    "    # jika masih tidak terpenuhi maka akan lanjut ke statement di bawah \n",
    "\n",
    "else: # else akan berjalan jika kedua statement diatas bernilai false/tidak terpenuhi\n",
    "    print(f\"{x} is equal to {y}\") \n",
    "# elif x == y: bisa juga pake elif lagi tetapi programnya akan jd tidak efisien/pemborosan \n",
    "# karena kita udah tau klo tidak lebih kecil dan lebih besar dari y ya pasti hasilnya bakalan sama dengan\n",
    "    \n",
    "   "
   ]
  },
  {
   "attachments": {},
   "cell_type": "markdown",
   "metadata": {},
   "source": [
    "## 2. Operators"
   ]
  },
  {
   "attachments": {},
   "cell_type": "markdown",
   "metadata": {},
   "source": [
    "## 2.1 And"
   ]
  },
  {
   "cell_type": "code",
   "execution_count": 3,
   "metadata": {},
   "outputs": [
    {
     "name": "stdout",
     "output_type": "stream",
     "text": [
      "Your Grade is A\n"
     ]
    }
   ],
   "source": [
    "# Operator and akan return true jika kedua statement bernilai true\n",
    "\n",
    "# contoh program score menggunakan and\n",
    "score = int(input(\"Enter Your Score : \")) # input untuk nilai \n",
    "\n",
    "if score >= 90 and score <= 100: # jika score 90-100 maka nilai A\n",
    "    print(\"Your Grade is A\") # print akan berjalan ketika kedua statement di atas bernilai true\n",
    "\n",
    "elif score >= 80 and score < 90: # jika score 80-90 maka nilai B\n",
    "    print(\"Your Grade is B\")\n",
    "\n",
    "elif score >= 70 and score < 80: # jika score 70-80 maka nilai C\n",
    "    print(\"Your Grade is C\")\n",
    "\n",
    "elif score >= 60 and score < 70: # jika score 60-70 maka nilai D\n",
    "    print(\"Your Grade is D\")\n",
    "\n",
    "else: # jika score dibawah 60 maka nilai E\n",
    "    print(\"Your Grade is E\") # print akan berjalan ketika statement false atau tidak ada yang terpenuhi"
   ]
  },
  {
   "cell_type": "code",
   "execution_count": 4,
   "metadata": {},
   "outputs": [
    {
     "name": "stdout",
     "output_type": "stream",
     "text": [
      "Your Grade is C\n"
     ]
    }
   ],
   "source": [
    "# Program Score di atas bisa dibuat lebih efsien lagi dengan cara seperti berikut :\n",
    "score = int(input(\"Enter Your Score : \")) # input untuk nilai \n",
    "\n",
    "# operator and dihilangkan sehingga lebih simple\n",
    "if 100 >= score >= 90: # jika score 90-100 maka nilai A\n",
    "    print(\"Your Grade is A\") # print akan berjalan ketika kedua statement di atas bernilai true\n",
    "\n",
    "# atau seperti dibawah ini\n",
    "elif score >= 80: # jika score 80-90 maka nilai B\n",
    "    print(\"Your Grade is B\")\n",
    "\n",
    "elif score >= 70: # jika score 70-80 maka nilai C\n",
    "    print(\"Your Grade is C\")\n",
    "\n",
    "elif score >= 60: # jika score 60-70 maka nilai D\n",
    "    print(\"Your Grade is D\")\n",
    "\n",
    "else: # jika score dibawah 60 maka nilai E\n",
    "    print(\"Your Grade is E\") # print akan berjalan ketika statement false atau tidak ada yang terpenuhi"
   ]
  },
  {
   "attachments": {},
   "cell_type": "markdown",
   "metadata": {},
   "source": [
    "## 2.2 Or"
   ]
  },
  {
   "cell_type": "code",
   "execution_count": 5,
   "metadata": {},
   "outputs": [
    {
     "name": "stdout",
     "output_type": "stream",
     "text": [
      "4 is not equal to 5\n"
     ]
    }
   ],
   "source": [
    "# Operator or akan return nilai true jika salah satu statement-nya true\n",
    "\n",
    "a = int(input(\"what's a? \")) # input variable a\n",
    "b = int(input(\"what's b? \")) # input variable b\n",
    "\n",
    "if a < b or a > b: # jika salah satu statement true makan function print di bawah akan berjalan\n",
    "    print(f\"{a} is not equal to {b}\")\n",
    "\n",
    "else: # jika kedua statement tsb false maka function print di bawah akan berjalan\n",
    "    print(f\"{a} is equal to {b}\")"
   ]
  },
  {
   "attachments": {},
   "cell_type": "markdown",
   "metadata": {},
   "source": [
    "## 3. Equal"
   ]
  },
  {
   "cell_type": "code",
   "execution_count": 7,
   "metadata": {},
   "outputs": [
    {
     "name": "stdout",
     "output_type": "stream",
     "text": [
      "6 is equal to 6\n"
     ]
    }
   ],
   "source": [
    "a = int(input(\"what's a? \")) # input variable a\n",
    "b = int(input(\"what's b? \")) # input variable b\n",
    "\n",
    "if a == b: # akan return true jika a sama dengan b\n",
    "    print(f\"{a} is equal to {b}\")\n",
    "\n",
    "else: # jika statement tsb false maka function print di bawah akan berjalan\n",
    "    print(f\"{a} is not equal to {b}\")"
   ]
  },
  {
   "attachments": {},
   "cell_type": "markdown",
   "metadata": {},
   "source": [
    "## 4. Not Equal"
   ]
  },
  {
   "cell_type": "code",
   "execution_count": 8,
   "metadata": {},
   "outputs": [
    {
     "name": "stdout",
     "output_type": "stream",
     "text": [
      "5 is not equal to 1\n"
     ]
    }
   ],
   "source": [
    "a = int(input(\"what's a? \")) # input variable a\n",
    "b = int(input(\"what's b? \")) # input variable b\n",
    "\n",
    "if a != b: # akan return true jika a tidak sama dengan b\n",
    "    print(f\"{a} is not equal to {b}\")\n",
    "\n",
    "else: # jika statement tsb false maka function print di bawah akan berjalan\n",
    "    print(f\"{a} is equal to {b}\")"
   ]
  },
  {
   "attachments": {},
   "cell_type": "markdown",
   "metadata": {},
   "source": [
    "## 5. Modulus (sisa bagi)"
   ]
  },
  {
   "cell_type": "code",
   "execution_count": 9,
   "metadata": {},
   "outputs": [
    {
     "name": "stdout",
     "output_type": "stream",
     "text": [
      "This Number is Odd\n"
     ]
    }
   ],
   "source": [
    "# Program Parity untuk mengecek apakah suatu angka ganjil atau genap\n",
    "x = int(input(\"Enter a Number : \"))\n",
    "\n",
    "if x % 2 == 0: # jika modulus dari x dibagi 2 adalah 0 maka angkanya genap, karena angka genap ketika dibagi dua akan memiliki sisa 0\n",
    "    print(\"This Number is Even\")\n",
    "\n",
    "else: # jika statement di atas false maka angka tersebut adalah ganjil, karena angka ganjil ketika dibagi 2 akan memiliki sisa 1 \n",
    "    print(\"This Number is Odd\")\n",
    "\n",
    "# untuk program lebih lengkapnya bisa di cek di lesson_parity.py"
   ]
  },
  {
   "attachments": {},
   "cell_type": "markdown",
   "metadata": {},
   "source": [
    "## 6. Match-Case"
   ]
  },
  {
   "cell_type": "code",
   "execution_count": 10,
   "metadata": {},
   "outputs": [
    {
     "name": "stdout",
     "output_type": "stream",
     "text": [
      "class 1\n"
     ]
    }
   ],
   "source": [
    "# match-case sama dengan switch-case di bahasa pemrograman lain\n",
    "# match akan melakukan pass sebuah parameter dan mencocokan parameter tersebut ke case yang ada, jika cocok maka case tersebut akan dijalankan \n",
    "# untuk memahami lebih lanjut konsep match-case maka buka file lesson_house.py\n",
    "\n",
    "# contoh sederhana\n",
    "name = input(\"What's your name? \")\n",
    "\n",
    "match name: # match dengan parameter name\n",
    "    case \"Andi\" | \"Steven\": # jika name = Andi atau Steven maka case ini akan berjalan\n",
    "        print(\"class 1\")\n",
    "    case \"Joko\": # jika name = Joko maka case ini akan berjalan\n",
    "        print(\"class 2\")\n",
    "    case _: # case ini akan berjalan ketika name tidak ada yang cocok (sama kyk konsep else)\n",
    "        print(\"not registered\")"
   ]
  }
 ],
 "metadata": {
  "kernelspec": {
   "display_name": "Python 3",
   "language": "python",
   "name": "python3"
  },
  "language_info": {
   "codemirror_mode": {
    "name": "ipython",
    "version": 3
   },
   "file_extension": ".py",
   "mimetype": "text/x-python",
   "name": "python",
   "nbconvert_exporter": "python",
   "pygments_lexer": "ipython3",
   "version": "3.11.4"
  },
  "orig_nbformat": 4
 },
 "nbformat": 4,
 "nbformat_minor": 2
}
